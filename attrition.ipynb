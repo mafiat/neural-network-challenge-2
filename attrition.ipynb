{
 "cells": [
  {
   "cell_type": "markdown",
   "metadata": {
    "id": "alIIEHibGc3M"
   },
   "source": [
    "## Part 1: Preprocessing"
   ]
  },
  {
   "cell_type": "code",
   "execution_count": 175,
   "metadata": {
    "colab": {
     "base_uri": "https://localhost:8080/",
     "height": 325
    },
    "executionInfo": {
     "elapsed": 12323,
     "status": "ok",
     "timestamp": 1730699226906,
     "user": {
      "displayName": "Alexander Booth",
      "userId": "02269714993535573104"
     },
     "user_tz": 360
    },
    "id": "6eDUJ4NtGc3P",
    "outputId": "eeae54b5-3d17-442d-94ba-00dd55b89964"
   },
   "outputs": [
    {
     "data": {
      "application/vnd.microsoft.datawrangler.viewer.v0+json": {
       "columns": [
        {
         "name": "index",
         "rawType": "int64",
         "type": "integer"
        },
        {
         "name": "Age",
         "rawType": "int64",
         "type": "integer"
        },
        {
         "name": "Attrition",
         "rawType": "object",
         "type": "string"
        },
        {
         "name": "BusinessTravel",
         "rawType": "object",
         "type": "string"
        },
        {
         "name": "Department",
         "rawType": "object",
         "type": "string"
        },
        {
         "name": "DistanceFromHome",
         "rawType": "int64",
         "type": "integer"
        },
        {
         "name": "Education",
         "rawType": "int64",
         "type": "integer"
        },
        {
         "name": "EducationField",
         "rawType": "object",
         "type": "string"
        },
        {
         "name": "EnvironmentSatisfaction",
         "rawType": "int64",
         "type": "integer"
        },
        {
         "name": "HourlyRate",
         "rawType": "int64",
         "type": "integer"
        },
        {
         "name": "JobInvolvement",
         "rawType": "int64",
         "type": "integer"
        },
        {
         "name": "JobLevel",
         "rawType": "int64",
         "type": "integer"
        },
        {
         "name": "JobRole",
         "rawType": "object",
         "type": "string"
        },
        {
         "name": "JobSatisfaction",
         "rawType": "int64",
         "type": "integer"
        },
        {
         "name": "MaritalStatus",
         "rawType": "object",
         "type": "string"
        },
        {
         "name": "NumCompaniesWorked",
         "rawType": "int64",
         "type": "integer"
        },
        {
         "name": "OverTime",
         "rawType": "object",
         "type": "string"
        },
        {
         "name": "PercentSalaryHike",
         "rawType": "int64",
         "type": "integer"
        },
        {
         "name": "PerformanceRating",
         "rawType": "int64",
         "type": "integer"
        },
        {
         "name": "RelationshipSatisfaction",
         "rawType": "int64",
         "type": "integer"
        },
        {
         "name": "StockOptionLevel",
         "rawType": "int64",
         "type": "integer"
        },
        {
         "name": "TotalWorkingYears",
         "rawType": "int64",
         "type": "integer"
        },
        {
         "name": "TrainingTimesLastYear",
         "rawType": "int64",
         "type": "integer"
        },
        {
         "name": "WorkLifeBalance",
         "rawType": "int64",
         "type": "integer"
        },
        {
         "name": "YearsAtCompany",
         "rawType": "int64",
         "type": "integer"
        },
        {
         "name": "YearsInCurrentRole",
         "rawType": "int64",
         "type": "integer"
        },
        {
         "name": "YearsSinceLastPromotion",
         "rawType": "int64",
         "type": "integer"
        },
        {
         "name": "YearsWithCurrManager",
         "rawType": "int64",
         "type": "integer"
        }
       ],
       "conversionMethod": "pd.DataFrame",
       "ref": "dc5140d8-e76b-4f43-b67f-d72c1e490eec",
       "rows": [
        [
         "0",
         "41",
         "Yes",
         "Travel_Rarely",
         "Sales",
         "1",
         "2",
         "Life Sciences",
         "2",
         "94",
         "3",
         "2",
         "Sales Executive",
         "4",
         "Single",
         "8",
         "Yes",
         "11",
         "3",
         "1",
         "0",
         "8",
         "0",
         "1",
         "6",
         "4",
         "0",
         "5"
        ],
        [
         "1",
         "49",
         "No",
         "Travel_Frequently",
         "Research & Development",
         "8",
         "1",
         "Life Sciences",
         "3",
         "61",
         "2",
         "2",
         "Research Scientist",
         "2",
         "Married",
         "1",
         "No",
         "23",
         "4",
         "4",
         "1",
         "10",
         "3",
         "3",
         "10",
         "7",
         "1",
         "7"
        ],
        [
         "2",
         "37",
         "Yes",
         "Travel_Rarely",
         "Research & Development",
         "2",
         "2",
         "Other",
         "4",
         "92",
         "2",
         "1",
         "Laboratory Technician",
         "3",
         "Single",
         "6",
         "Yes",
         "15",
         "3",
         "2",
         "0",
         "7",
         "3",
         "3",
         "0",
         "0",
         "0",
         "0"
        ],
        [
         "3",
         "33",
         "No",
         "Travel_Frequently",
         "Research & Development",
         "3",
         "4",
         "Life Sciences",
         "4",
         "56",
         "3",
         "1",
         "Research Scientist",
         "3",
         "Married",
         "1",
         "Yes",
         "11",
         "3",
         "3",
         "0",
         "8",
         "3",
         "3",
         "8",
         "7",
         "3",
         "0"
        ],
        [
         "4",
         "27",
         "No",
         "Travel_Rarely",
         "Research & Development",
         "2",
         "1",
         "Medical",
         "1",
         "40",
         "3",
         "1",
         "Laboratory Technician",
         "2",
         "Married",
         "9",
         "No",
         "12",
         "3",
         "4",
         "1",
         "6",
         "3",
         "3",
         "2",
         "2",
         "2",
         "2"
        ]
       ],
       "shape": {
        "columns": 27,
        "rows": 5
       }
      },
      "text/html": [
       "<div>\n",
       "<style scoped>\n",
       "    .dataframe tbody tr th:only-of-type {\n",
       "        vertical-align: middle;\n",
       "    }\n",
       "\n",
       "    .dataframe tbody tr th {\n",
       "        vertical-align: top;\n",
       "    }\n",
       "\n",
       "    .dataframe thead th {\n",
       "        text-align: right;\n",
       "    }\n",
       "</style>\n",
       "<table border=\"1\" class=\"dataframe\">\n",
       "  <thead>\n",
       "    <tr style=\"text-align: right;\">\n",
       "      <th></th>\n",
       "      <th>Age</th>\n",
       "      <th>Attrition</th>\n",
       "      <th>BusinessTravel</th>\n",
       "      <th>Department</th>\n",
       "      <th>DistanceFromHome</th>\n",
       "      <th>Education</th>\n",
       "      <th>EducationField</th>\n",
       "      <th>EnvironmentSatisfaction</th>\n",
       "      <th>HourlyRate</th>\n",
       "      <th>JobInvolvement</th>\n",
       "      <th>...</th>\n",
       "      <th>PerformanceRating</th>\n",
       "      <th>RelationshipSatisfaction</th>\n",
       "      <th>StockOptionLevel</th>\n",
       "      <th>TotalWorkingYears</th>\n",
       "      <th>TrainingTimesLastYear</th>\n",
       "      <th>WorkLifeBalance</th>\n",
       "      <th>YearsAtCompany</th>\n",
       "      <th>YearsInCurrentRole</th>\n",
       "      <th>YearsSinceLastPromotion</th>\n",
       "      <th>YearsWithCurrManager</th>\n",
       "    </tr>\n",
       "  </thead>\n",
       "  <tbody>\n",
       "    <tr>\n",
       "      <th>0</th>\n",
       "      <td>41</td>\n",
       "      <td>Yes</td>\n",
       "      <td>Travel_Rarely</td>\n",
       "      <td>Sales</td>\n",
       "      <td>1</td>\n",
       "      <td>2</td>\n",
       "      <td>Life Sciences</td>\n",
       "      <td>2</td>\n",
       "      <td>94</td>\n",
       "      <td>3</td>\n",
       "      <td>...</td>\n",
       "      <td>3</td>\n",
       "      <td>1</td>\n",
       "      <td>0</td>\n",
       "      <td>8</td>\n",
       "      <td>0</td>\n",
       "      <td>1</td>\n",
       "      <td>6</td>\n",
       "      <td>4</td>\n",
       "      <td>0</td>\n",
       "      <td>5</td>\n",
       "    </tr>\n",
       "    <tr>\n",
       "      <th>1</th>\n",
       "      <td>49</td>\n",
       "      <td>No</td>\n",
       "      <td>Travel_Frequently</td>\n",
       "      <td>Research &amp; Development</td>\n",
       "      <td>8</td>\n",
       "      <td>1</td>\n",
       "      <td>Life Sciences</td>\n",
       "      <td>3</td>\n",
       "      <td>61</td>\n",
       "      <td>2</td>\n",
       "      <td>...</td>\n",
       "      <td>4</td>\n",
       "      <td>4</td>\n",
       "      <td>1</td>\n",
       "      <td>10</td>\n",
       "      <td>3</td>\n",
       "      <td>3</td>\n",
       "      <td>10</td>\n",
       "      <td>7</td>\n",
       "      <td>1</td>\n",
       "      <td>7</td>\n",
       "    </tr>\n",
       "    <tr>\n",
       "      <th>2</th>\n",
       "      <td>37</td>\n",
       "      <td>Yes</td>\n",
       "      <td>Travel_Rarely</td>\n",
       "      <td>Research &amp; Development</td>\n",
       "      <td>2</td>\n",
       "      <td>2</td>\n",
       "      <td>Other</td>\n",
       "      <td>4</td>\n",
       "      <td>92</td>\n",
       "      <td>2</td>\n",
       "      <td>...</td>\n",
       "      <td>3</td>\n",
       "      <td>2</td>\n",
       "      <td>0</td>\n",
       "      <td>7</td>\n",
       "      <td>3</td>\n",
       "      <td>3</td>\n",
       "      <td>0</td>\n",
       "      <td>0</td>\n",
       "      <td>0</td>\n",
       "      <td>0</td>\n",
       "    </tr>\n",
       "    <tr>\n",
       "      <th>3</th>\n",
       "      <td>33</td>\n",
       "      <td>No</td>\n",
       "      <td>Travel_Frequently</td>\n",
       "      <td>Research &amp; Development</td>\n",
       "      <td>3</td>\n",
       "      <td>4</td>\n",
       "      <td>Life Sciences</td>\n",
       "      <td>4</td>\n",
       "      <td>56</td>\n",
       "      <td>3</td>\n",
       "      <td>...</td>\n",
       "      <td>3</td>\n",
       "      <td>3</td>\n",
       "      <td>0</td>\n",
       "      <td>8</td>\n",
       "      <td>3</td>\n",
       "      <td>3</td>\n",
       "      <td>8</td>\n",
       "      <td>7</td>\n",
       "      <td>3</td>\n",
       "      <td>0</td>\n",
       "    </tr>\n",
       "    <tr>\n",
       "      <th>4</th>\n",
       "      <td>27</td>\n",
       "      <td>No</td>\n",
       "      <td>Travel_Rarely</td>\n",
       "      <td>Research &amp; Development</td>\n",
       "      <td>2</td>\n",
       "      <td>1</td>\n",
       "      <td>Medical</td>\n",
       "      <td>1</td>\n",
       "      <td>40</td>\n",
       "      <td>3</td>\n",
       "      <td>...</td>\n",
       "      <td>3</td>\n",
       "      <td>4</td>\n",
       "      <td>1</td>\n",
       "      <td>6</td>\n",
       "      <td>3</td>\n",
       "      <td>3</td>\n",
       "      <td>2</td>\n",
       "      <td>2</td>\n",
       "      <td>2</td>\n",
       "      <td>2</td>\n",
       "    </tr>\n",
       "  </tbody>\n",
       "</table>\n",
       "<p>5 rows × 27 columns</p>\n",
       "</div>"
      ],
      "text/plain": [
       "   Age Attrition     BusinessTravel              Department  DistanceFromHome  \\\n",
       "0   41       Yes      Travel_Rarely                   Sales                 1   \n",
       "1   49        No  Travel_Frequently  Research & Development                 8   \n",
       "2   37       Yes      Travel_Rarely  Research & Development                 2   \n",
       "3   33        No  Travel_Frequently  Research & Development                 3   \n",
       "4   27        No      Travel_Rarely  Research & Development                 2   \n",
       "\n",
       "   Education EducationField  EnvironmentSatisfaction  HourlyRate  \\\n",
       "0          2  Life Sciences                        2          94   \n",
       "1          1  Life Sciences                        3          61   \n",
       "2          2          Other                        4          92   \n",
       "3          4  Life Sciences                        4          56   \n",
       "4          1        Medical                        1          40   \n",
       "\n",
       "   JobInvolvement  ...  PerformanceRating RelationshipSatisfaction  \\\n",
       "0               3  ...                  3                        1   \n",
       "1               2  ...                  4                        4   \n",
       "2               2  ...                  3                        2   \n",
       "3               3  ...                  3                        3   \n",
       "4               3  ...                  3                        4   \n",
       "\n",
       "   StockOptionLevel TotalWorkingYears  TrainingTimesLastYear WorkLifeBalance  \\\n",
       "0                 0                 8                      0               1   \n",
       "1                 1                10                      3               3   \n",
       "2                 0                 7                      3               3   \n",
       "3                 0                 8                      3               3   \n",
       "4                 1                 6                      3               3   \n",
       "\n",
       "   YearsAtCompany  YearsInCurrentRole  YearsSinceLastPromotion  \\\n",
       "0               6                   4                        0   \n",
       "1              10                   7                        1   \n",
       "2               0                   0                        0   \n",
       "3               8                   7                        3   \n",
       "4               2                   2                        2   \n",
       "\n",
       "   YearsWithCurrManager  \n",
       "0                     5  \n",
       "1                     7  \n",
       "2                     0  \n",
       "3                     0  \n",
       "4                     2  \n",
       "\n",
       "[5 rows x 27 columns]"
      ]
     },
     "execution_count": 175,
     "metadata": {},
     "output_type": "execute_result"
    }
   ],
   "source": [
    "# Import our dependencies\n",
    "from sklearn.model_selection import train_test_split\n",
    "from sklearn.preprocessing import StandardScaler\n",
    "import pandas as pd\n",
    "import numpy as np\n",
    "from tensorflow.keras.models import Model\n",
    "from tensorflow.keras import layers\n",
    "\n",
    "#  Import and read the attrition data\n",
    "attrition_df = pd.read_csv('https://static.bc-edx.com/ai/ail-v-1-0/m19/lms/datasets/attrition.csv')\n",
    "attrition_df.head()"
   ]
  },
  {
   "cell_type": "code",
   "execution_count": 176,
   "metadata": {
    "colab": {
     "base_uri": "https://localhost:8080/",
     "height": 930
    },
    "executionInfo": {
     "elapsed": 10,
     "status": "ok",
     "timestamp": 1730699226906,
     "user": {
      "displayName": "Alexander Booth",
      "userId": "02269714993535573104"
     },
     "user_tz": 360
    },
    "id": "g22aQSY4Gc3Q",
    "outputId": "e8b68509-45d8-42e0-a9db-1bdce48e4b2d"
   },
   "outputs": [
    {
     "data": {
      "text/plain": [
       "Age                         43\n",
       "Attrition                    2\n",
       "BusinessTravel               3\n",
       "Department                   3\n",
       "DistanceFromHome            29\n",
       "Education                    5\n",
       "EducationField               6\n",
       "EnvironmentSatisfaction      4\n",
       "HourlyRate                  71\n",
       "JobInvolvement               4\n",
       "JobLevel                     5\n",
       "JobRole                      9\n",
       "JobSatisfaction              4\n",
       "MaritalStatus                3\n",
       "NumCompaniesWorked          10\n",
       "OverTime                     2\n",
       "PercentSalaryHike           15\n",
       "PerformanceRating            2\n",
       "RelationshipSatisfaction     4\n",
       "StockOptionLevel             4\n",
       "TotalWorkingYears           40\n",
       "TrainingTimesLastYear        7\n",
       "WorkLifeBalance              4\n",
       "YearsAtCompany              37\n",
       "YearsInCurrentRole          19\n",
       "YearsSinceLastPromotion     16\n",
       "YearsWithCurrManager        18\n",
       "dtype: int64"
      ]
     },
     "execution_count": 176,
     "metadata": {},
     "output_type": "execute_result"
    }
   ],
   "source": [
    "# Determine the number of unique values in each column\n",
    "attrition_df.nunique()"
   ]
  },
  {
   "cell_type": "code",
   "execution_count": 177,
   "metadata": {
    "executionInfo": {
     "elapsed": 7,
     "status": "ok",
     "timestamp": 1730699226906,
     "user": {
      "displayName": "Alexander Booth",
      "userId": "02269714993535573104"
     },
     "user_tz": 360
    },
    "id": "50vMgBEnJbfM"
   },
   "outputs": [],
   "source": [
    "# Create y_df with the Attrition and Department columns\n",
    "\n",
    "y_df = attrition_df[['Attrition', 'Department']]"
   ]
  },
  {
   "cell_type": "code",
   "execution_count": 178,
   "metadata": {},
   "outputs": [
    {
     "data": {
      "application/vnd.microsoft.datawrangler.viewer.v0+json": {
       "columns": [
        {
         "name": "index",
         "rawType": "int64",
         "type": "integer"
        },
        {
         "name": "Attrition",
         "rawType": "object",
         "type": "string"
        },
        {
         "name": "Department",
         "rawType": "object",
         "type": "string"
        }
       ],
       "conversionMethod": "pd.DataFrame",
       "ref": "7d76a7bc-65ab-4174-af64-18015d4d98ce",
       "rows": [
        [
         "0",
         "Yes",
         "Sales"
        ],
        [
         "1",
         "No",
         "Research & Development"
        ],
        [
         "2",
         "Yes",
         "Research & Development"
        ],
        [
         "3",
         "No",
         "Research & Development"
        ],
        [
         "4",
         "No",
         "Research & Development"
        ],
        [
         "5",
         "No",
         "Research & Development"
        ],
        [
         "6",
         "No",
         "Research & Development"
        ],
        [
         "7",
         "No",
         "Research & Development"
        ],
        [
         "8",
         "No",
         "Research & Development"
        ],
        [
         "9",
         "No",
         "Research & Development"
        ],
        [
         "10",
         "No",
         "Research & Development"
        ],
        [
         "11",
         "No",
         "Research & Development"
        ],
        [
         "12",
         "No",
         "Research & Development"
        ],
        [
         "13",
         "No",
         "Research & Development"
        ],
        [
         "14",
         "Yes",
         "Research & Development"
        ],
        [
         "15",
         "No",
         "Research & Development"
        ],
        [
         "16",
         "No",
         "Research & Development"
        ],
        [
         "17",
         "No",
         "Research & Development"
        ],
        [
         "18",
         "No",
         "Sales"
        ],
        [
         "19",
         "No",
         "Research & Development"
        ],
        [
         "20",
         "No",
         "Research & Development"
        ],
        [
         "21",
         "Yes",
         "Sales"
        ],
        [
         "22",
         "No",
         "Research & Development"
        ],
        [
         "23",
         "No",
         "Research & Development"
        ],
        [
         "24",
         "Yes",
         "Research & Development"
        ],
        [
         "25",
         "No",
         "Research & Development"
        ],
        [
         "26",
         "Yes",
         "Research & Development"
        ],
        [
         "27",
         "No",
         "Sales"
        ],
        [
         "28",
         "No",
         "Research & Development"
        ],
        [
         "29",
         "No",
         "Sales"
        ],
        [
         "30",
         "No",
         "Research & Development"
        ],
        [
         "31",
         "No",
         "Research & Development"
        ],
        [
         "32",
         "No",
         "Research & Development"
        ],
        [
         "33",
         "Yes",
         "Sales"
        ],
        [
         "34",
         "Yes",
         "Research & Development"
        ],
        [
         "35",
         "No",
         "Research & Development"
        ],
        [
         "36",
         "Yes",
         "Sales"
        ],
        [
         "37",
         "No",
         "Sales"
        ],
        [
         "38",
         "No",
         "Research & Development"
        ],
        [
         "39",
         "No",
         "Sales"
        ],
        [
         "40",
         "No",
         "Research & Development"
        ],
        [
         "41",
         "No",
         "Research & Development"
        ],
        [
         "42",
         "Yes",
         "Research & Development"
        ],
        [
         "43",
         "No",
         "Sales"
        ],
        [
         "44",
         "No",
         "Research & Development"
        ],
        [
         "45",
         "Yes",
         "Research & Development"
        ],
        [
         "46",
         "No",
         "Sales"
        ],
        [
         "47",
         "No",
         "Research & Development"
        ],
        [
         "48",
         "No",
         "Sales"
        ],
        [
         "49",
         "No",
         "Research & Development"
        ]
       ],
       "shape": {
        "columns": 2,
        "rows": 1470
       }
      },
      "text/html": [
       "<div>\n",
       "<style scoped>\n",
       "    .dataframe tbody tr th:only-of-type {\n",
       "        vertical-align: middle;\n",
       "    }\n",
       "\n",
       "    .dataframe tbody tr th {\n",
       "        vertical-align: top;\n",
       "    }\n",
       "\n",
       "    .dataframe thead th {\n",
       "        text-align: right;\n",
       "    }\n",
       "</style>\n",
       "<table border=\"1\" class=\"dataframe\">\n",
       "  <thead>\n",
       "    <tr style=\"text-align: right;\">\n",
       "      <th></th>\n",
       "      <th>Attrition</th>\n",
       "      <th>Department</th>\n",
       "    </tr>\n",
       "  </thead>\n",
       "  <tbody>\n",
       "    <tr>\n",
       "      <th>0</th>\n",
       "      <td>Yes</td>\n",
       "      <td>Sales</td>\n",
       "    </tr>\n",
       "    <tr>\n",
       "      <th>1</th>\n",
       "      <td>No</td>\n",
       "      <td>Research &amp; Development</td>\n",
       "    </tr>\n",
       "    <tr>\n",
       "      <th>2</th>\n",
       "      <td>Yes</td>\n",
       "      <td>Research &amp; Development</td>\n",
       "    </tr>\n",
       "    <tr>\n",
       "      <th>3</th>\n",
       "      <td>No</td>\n",
       "      <td>Research &amp; Development</td>\n",
       "    </tr>\n",
       "    <tr>\n",
       "      <th>4</th>\n",
       "      <td>No</td>\n",
       "      <td>Research &amp; Development</td>\n",
       "    </tr>\n",
       "    <tr>\n",
       "      <th>...</th>\n",
       "      <td>...</td>\n",
       "      <td>...</td>\n",
       "    </tr>\n",
       "    <tr>\n",
       "      <th>1465</th>\n",
       "      <td>No</td>\n",
       "      <td>Research &amp; Development</td>\n",
       "    </tr>\n",
       "    <tr>\n",
       "      <th>1466</th>\n",
       "      <td>No</td>\n",
       "      <td>Research &amp; Development</td>\n",
       "    </tr>\n",
       "    <tr>\n",
       "      <th>1467</th>\n",
       "      <td>No</td>\n",
       "      <td>Research &amp; Development</td>\n",
       "    </tr>\n",
       "    <tr>\n",
       "      <th>1468</th>\n",
       "      <td>No</td>\n",
       "      <td>Sales</td>\n",
       "    </tr>\n",
       "    <tr>\n",
       "      <th>1469</th>\n",
       "      <td>No</td>\n",
       "      <td>Research &amp; Development</td>\n",
       "    </tr>\n",
       "  </tbody>\n",
       "</table>\n",
       "<p>1470 rows × 2 columns</p>\n",
       "</div>"
      ],
      "text/plain": [
       "     Attrition              Department\n",
       "0          Yes                   Sales\n",
       "1           No  Research & Development\n",
       "2          Yes  Research & Development\n",
       "3           No  Research & Development\n",
       "4           No  Research & Development\n",
       "...        ...                     ...\n",
       "1465        No  Research & Development\n",
       "1466        No  Research & Development\n",
       "1467        No  Research & Development\n",
       "1468        No                   Sales\n",
       "1469        No  Research & Development\n",
       "\n",
       "[1470 rows x 2 columns]"
      ]
     },
     "execution_count": 178,
     "metadata": {},
     "output_type": "execute_result"
    }
   ],
   "source": [
    "y_df"
   ]
  },
  {
   "cell_type": "code",
   "execution_count": 179,
   "metadata": {
    "colab": {
     "base_uri": "https://localhost:8080/",
     "height": 397
    },
    "executionInfo": {
     "elapsed": 125,
     "status": "ok",
     "timestamp": 1730699227025,
     "user": {
      "displayName": "Alexander Booth",
      "userId": "02269714993535573104"
     },
     "user_tz": 360
    },
    "id": "Virka0zLGc3R",
    "outputId": "24f181c9-7e2e-42cb-94e8-a75842f1ab01"
   },
   "outputs": [
    {
     "data": {
      "text/plain": [
       "Education                  int64\n",
       "Age                        int64\n",
       "DistanceFromHome           int64\n",
       "JobSatisfaction            int64\n",
       "EnvironmentSatisfaction    int64\n",
       "StockOptionLevel           int64\n",
       "WorkLifeBalance            int64\n",
       "YearsAtCompany             int64\n",
       "YearsSinceLastPromotion    int64\n",
       "NumCompaniesWorked         int64\n",
       "dtype: object"
      ]
     },
     "execution_count": 179,
     "metadata": {},
     "output_type": "execute_result"
    }
   ],
   "source": [
    "# Create a list of at least 10 column names to use as X data\n",
    "\n",
    "X_columns = ['Education', 'Age', 'DistanceFromHome', 'JobSatisfaction', 'EnvironmentSatisfaction',\n",
    "              'StockOptionLevel', 'WorkLifeBalance', 'YearsAtCompany', 'YearsSinceLastPromotion', 'NumCompaniesWorked']\n",
    "\n",
    "# Create X_df using your selected columns\n",
    "\n",
    "X_df = attrition_df[X_columns]\n",
    "\n",
    "# Show the data types for X_df\n",
    "\n",
    "X_df.dtypes"
   ]
  },
  {
   "cell_type": "code",
   "execution_count": 180,
   "metadata": {
    "executionInfo": {
     "elapsed": 9,
     "status": "ok",
     "timestamp": 1730699227025,
     "user": {
      "displayName": "Alexander Booth",
      "userId": "02269714993535573104"
     },
     "user_tz": 360
    },
    "id": "KaJfdOGUMHMR"
   },
   "outputs": [],
   "source": [
    "# Split the data into training and testing sets\n",
    "from sklearn.model_selection import train_test_split\n",
    "\n",
    "X_train, X_test, y_train, y_test = train_test_split(X_df, y_df, test_size=0.2, random_state=78)"
   ]
  },
  {
   "cell_type": "code",
   "execution_count": 181,
   "metadata": {
    "colab": {
     "base_uri": "https://localhost:8080/",
     "height": 178
    },
    "executionInfo": {
     "elapsed": 8,
     "status": "ok",
     "timestamp": 1730699227025,
     "user": {
      "displayName": "Alexander Booth",
      "userId": "02269714993535573104"
     },
     "user_tz": 360
    },
    "id": "NYubUJqiLCSp",
    "outputId": "6116187c-4afa-4d4a-aeb9-fdc2131d0d58"
   },
   "outputs": [],
   "source": [
    "# Convert your X data to numeric data types however you see fit\n",
    "# Add new code cells as necessary\n",
    "\n",
    "X_train = X_train.apply(pd.to_numeric, errors='coerce')\n",
    "X_test = X_test.apply(pd.to_numeric, errors='coerce')\n"
   ]
  },
  {
   "cell_type": "code",
   "execution_count": 182,
   "metadata": {
    "executionInfo": {
     "elapsed": 6,
     "status": "ok",
     "timestamp": 1730699227162,
     "user": {
      "displayName": "Alexander Booth",
      "userId": "02269714993535573104"
     },
     "user_tz": 360
    },
    "id": "EWA-aIA5Gc3T"
   },
   "outputs": [],
   "source": [
    "# Create a StandardScaler\n",
    "\n",
    "scaler = StandardScaler()\n",
    "\n",
    "# Fit the StandardScaler to the training data\n",
    "\n",
    "scaler.fit(X_train)\n",
    "\n",
    "# Scale the training and testing data\n",
    "\n",
    "X_train_scaled = scaler.transform(X_train)\n",
    "X_test_scaled = scaler.transform(X_test)"
   ]
  },
  {
   "cell_type": "code",
   "execution_count": 183,
   "metadata": {},
   "outputs": [
    {
     "data": {
      "text/plain": [
       "Department\n",
       "Research & Development    961\n",
       "Sales                     446\n",
       "Human Resources            63\n",
       "Name: count, dtype: int64"
      ]
     },
     "execution_count": 183,
     "metadata": {},
     "output_type": "execute_result"
    }
   ],
   "source": [
    "y_df['Department'].value_counts()"
   ]
  },
  {
   "cell_type": "code",
   "execution_count": 184,
   "metadata": {
    "colab": {
     "base_uri": "https://localhost:8080/"
    },
    "executionInfo": {
     "elapsed": 99,
     "status": "ok",
     "timestamp": 1730699227256,
     "user": {
      "displayName": "Alexander Booth",
      "userId": "02269714993535573104"
     },
     "user_tz": 360
    },
    "id": "-z0Mky8vQSz4",
    "outputId": "5024d63f-7e4e-4a91-fb76-0b2c79c1bcfb"
   },
   "outputs": [],
   "source": [
    "from sklearn.preprocessing import OneHotEncoder\n",
    "\n",
    "# Create a OneHotEncoder for the Department column\n",
    "\n",
    "encoder_department = OneHotEncoder(sparse_output=False)\n",
    "\n",
    "# Fit the encoder to the training data\n",
    "\n",
    "encoder_department.fit(y_train[['Department']])\n",
    "\n",
    "# Create two new variables by applying the encoder\n",
    "# to the training and testing data\n",
    "\n",
    "y_train_encoded_department = encoder_department.transform(y_train[['Department']])\n",
    "y_test_encoded_department = encoder_department.transform(y_test[['Department']])\n"
   ]
  },
  {
   "cell_type": "code",
   "execution_count": 185,
   "metadata": {},
   "outputs": [
    {
     "data": {
      "application/vnd.microsoft.datawrangler.viewer.v0+json": {
       "columns": [
        {
         "name": "index",
         "rawType": "int64",
         "type": "integer"
        },
        {
         "name": "Attrition",
         "rawType": "object",
         "type": "string"
        },
        {
         "name": "Department",
         "rawType": "object",
         "type": "string"
        }
       ],
       "conversionMethod": "pd.DataFrame",
       "ref": "426bae95-e7f9-4092-a10f-7c1028fe2539",
       "rows": [
        [
         "1304",
         "No",
         "Research & Development"
        ],
        [
         "1125",
         "No",
         "Research & Development"
        ],
        [
         "139",
         "No",
         "Human Resources"
        ],
        [
         "499",
         "No",
         "Sales"
        ],
        [
         "832",
         "No",
         "Research & Development"
        ],
        [
         "272",
         "No",
         "Research & Development"
        ],
        [
         "274",
         "No",
         "Research & Development"
        ],
        [
         "582",
         "No",
         "Research & Development"
        ],
        [
         "521",
         "No",
         "Sales"
        ],
        [
         "639",
         "No",
         "Research & Development"
        ]
       ],
       "shape": {
        "columns": 2,
        "rows": 10
       }
      },
      "text/html": [
       "<div>\n",
       "<style scoped>\n",
       "    .dataframe tbody tr th:only-of-type {\n",
       "        vertical-align: middle;\n",
       "    }\n",
       "\n",
       "    .dataframe tbody tr th {\n",
       "        vertical-align: top;\n",
       "    }\n",
       "\n",
       "    .dataframe thead th {\n",
       "        text-align: right;\n",
       "    }\n",
       "</style>\n",
       "<table border=\"1\" class=\"dataframe\">\n",
       "  <thead>\n",
       "    <tr style=\"text-align: right;\">\n",
       "      <th></th>\n",
       "      <th>Attrition</th>\n",
       "      <th>Department</th>\n",
       "    </tr>\n",
       "  </thead>\n",
       "  <tbody>\n",
       "    <tr>\n",
       "      <th>1304</th>\n",
       "      <td>No</td>\n",
       "      <td>Research &amp; Development</td>\n",
       "    </tr>\n",
       "    <tr>\n",
       "      <th>1125</th>\n",
       "      <td>No</td>\n",
       "      <td>Research &amp; Development</td>\n",
       "    </tr>\n",
       "    <tr>\n",
       "      <th>139</th>\n",
       "      <td>No</td>\n",
       "      <td>Human Resources</td>\n",
       "    </tr>\n",
       "    <tr>\n",
       "      <th>499</th>\n",
       "      <td>No</td>\n",
       "      <td>Sales</td>\n",
       "    </tr>\n",
       "    <tr>\n",
       "      <th>832</th>\n",
       "      <td>No</td>\n",
       "      <td>Research &amp; Development</td>\n",
       "    </tr>\n",
       "    <tr>\n",
       "      <th>272</th>\n",
       "      <td>No</td>\n",
       "      <td>Research &amp; Development</td>\n",
       "    </tr>\n",
       "    <tr>\n",
       "      <th>274</th>\n",
       "      <td>No</td>\n",
       "      <td>Research &amp; Development</td>\n",
       "    </tr>\n",
       "    <tr>\n",
       "      <th>582</th>\n",
       "      <td>No</td>\n",
       "      <td>Research &amp; Development</td>\n",
       "    </tr>\n",
       "    <tr>\n",
       "      <th>521</th>\n",
       "      <td>No</td>\n",
       "      <td>Sales</td>\n",
       "    </tr>\n",
       "    <tr>\n",
       "      <th>639</th>\n",
       "      <td>No</td>\n",
       "      <td>Research &amp; Development</td>\n",
       "    </tr>\n",
       "  </tbody>\n",
       "</table>\n",
       "</div>"
      ],
      "text/plain": [
       "     Attrition              Department\n",
       "1304        No  Research & Development\n",
       "1125        No  Research & Development\n",
       "139         No         Human Resources\n",
       "499         No                   Sales\n",
       "832         No  Research & Development\n",
       "272         No  Research & Development\n",
       "274         No  Research & Development\n",
       "582         No  Research & Development\n",
       "521         No                   Sales\n",
       "639         No  Research & Development"
      ]
     },
     "execution_count": 185,
     "metadata": {},
     "output_type": "execute_result"
    }
   ],
   "source": [
    "y_train.head(10)\n"
   ]
  },
  {
   "cell_type": "code",
   "execution_count": 186,
   "metadata": {},
   "outputs": [
    {
     "data": {
      "text/plain": [
       "array([[0., 1., 0.],\n",
       "       [0., 1., 0.],\n",
       "       [1., 0., 0.],\n",
       "       ...,\n",
       "       [0., 1., 0.],\n",
       "       [0., 0., 1.],\n",
       "       [0., 1., 0.]])"
      ]
     },
     "execution_count": 186,
     "metadata": {},
     "output_type": "execute_result"
    }
   ],
   "source": [
    "y_train_encoded_department"
   ]
  },
  {
   "cell_type": "code",
   "execution_count": 187,
   "metadata": {
    "colab": {
     "base_uri": "https://localhost:8080/"
    },
    "executionInfo": {
     "elapsed": 5,
     "status": "ok",
     "timestamp": 1730699227257,
     "user": {
      "displayName": "Alexander Booth",
      "userId": "02269714993535573104"
     },
     "user_tz": 360
    },
    "id": "-G4DSpvFRrk4",
    "outputId": "1821049e-a4f0-437f-b8a7-e415431fbdb0"
   },
   "outputs": [],
   "source": [
    "# Create a OneHotEncoder for the Attrition column\n",
    "\n",
    "encoder_attrition = OneHotEncoder(sparse_output=False)\n",
    "\n",
    "# Fit the encoder to the training data\n",
    "\n",
    "encoder_attrition.fit(y_train[['Attrition']])\n",
    "\n",
    "# Create two new variables by applying the encoder\n",
    "# to the training and testing data\n",
    "\n",
    "y_train_encoded_attrition = encoder_attrition.transform(y_train[['Attrition']])\n",
    "y_test_encoded_attrition = encoder_attrition.transform(y_test[['Attrition']])\n"
   ]
  },
  {
   "cell_type": "code",
   "execution_count": 188,
   "metadata": {},
   "outputs": [
    {
     "data": {
      "text/plain": [
       "array([[1., 0.],\n",
       "       [1., 0.],\n",
       "       [1., 0.],\n",
       "       ...,\n",
       "       [1., 0.],\n",
       "       [1., 0.],\n",
       "       [0., 1.]])"
      ]
     },
     "execution_count": 188,
     "metadata": {},
     "output_type": "execute_result"
    }
   ],
   "source": [
    "y_train_encoded_attrition"
   ]
  },
  {
   "cell_type": "markdown",
   "metadata": {
    "id": "ykNmu_WWGc3T"
   },
   "source": [
    "## Part 2: Create, Compile, and Train the Model"
   ]
  },
  {
   "cell_type": "code",
   "execution_count": 189,
   "metadata": {
    "executionInfo": {
     "elapsed": 309,
     "status": "ok",
     "timestamp": 1730699227563,
     "user": {
      "displayName": "Alexander Booth",
      "userId": "02269714993535573104"
     },
     "user_tz": 360
    },
    "id": "WUptZqmSGc3T"
   },
   "outputs": [],
   "source": [
    "# Find the number of columns in the X training data.\n",
    "\n",
    "num_X_columns = X_train_scaled.shape[1]\n",
    "\n",
    "# Create the input layer\n",
    "\n",
    "input_layer = layers.Input(shape=(num_X_columns,), name='input_features')\n",
    "\n",
    "# Create at least two shared layers\n",
    "\n",
    "shared_layer_1 = layers.Dense(64, activation='relu', name='shared_layer_1')(input_layer)\n",
    "shared_layer_2 = layers.Dense(128, activation='relu', name='shared_layer_2')(shared_layer_1)\n",
    "\n"
   ]
  },
  {
   "cell_type": "code",
   "execution_count": 190,
   "metadata": {
    "executionInfo": {
     "elapsed": 118,
     "status": "ok",
     "timestamp": 1730699227678,
     "user": {
      "displayName": "Alexander Booth",
      "userId": "02269714993535573104"
     },
     "user_tz": 360
    },
    "id": "JukjTm2yTEqd"
   },
   "outputs": [],
   "source": [
    "# Create a branch for Department\n",
    "# with a hidden layer and an output layer\n",
    "\n",
    "# Create the hidden layer\n",
    "\n",
    "department_hidden = layers.Dense(32, activation='softmax', name='department_hidden')(shared_layer_2)\n",
    "\n",
    "# Create the output layer\n",
    "\n",
    "department_output = layers.Dense(3, activation='softmax', name='department_output')(department_hidden)\n"
   ]
  },
  {
   "cell_type": "code",
   "execution_count": 191,
   "metadata": {
    "executionInfo": {
     "elapsed": 9,
     "status": "ok",
     "timestamp": 1730699227679,
     "user": {
      "displayName": "Alexander Booth",
      "userId": "02269714993535573104"
     },
     "user_tz": 360
    },
    "id": "9OqhUiOJUBkR"
   },
   "outputs": [],
   "source": [
    "# Create a branch for Attrition\n",
    "# with a hidden layer and an output layer\n",
    "\n",
    "\n",
    "# Create the hidden layer\n",
    "\n",
    "attrition_hidden = layers.Dense(32, activation='sigmoid', name='attrition_hidden')(shared_layer_2)\n",
    "\n",
    "# Create the output layer\n",
    "\n",
    "attrition_output = layers.Dense(2, activation='sigmoid', name='attrition_output')(attrition_hidden)"
   ]
  },
  {
   "cell_type": "code",
   "execution_count": 192,
   "metadata": {
    "colab": {
     "base_uri": "https://localhost:8080/",
     "height": 361
    },
    "executionInfo": {
     "elapsed": 108,
     "status": "ok",
     "timestamp": 1730699227780,
     "user": {
      "displayName": "Alexander Booth",
      "userId": "02269714993535573104"
     },
     "user_tz": 360
    },
    "id": "twmuejdxGc3T",
    "outputId": "dd9ce242-6a66-4709-ba13-4b13551c22e0"
   },
   "outputs": [
    {
     "name": "stdout",
     "output_type": "stream",
     "text": [
      "Model: \"model_5\"\n",
      "__________________________________________________________________________________________________\n",
      " Layer (type)                   Output Shape         Param #     Connected to                     \n",
      "==================================================================================================\n",
      " input_features (InputLayer)    [(None, 10)]         0           []                               \n",
      "                                                                                                  \n",
      " shared_layer_1 (Dense)         (None, 64)           704         ['input_features[0][0]']         \n",
      "                                                                                                  \n",
      " shared_layer_2 (Dense)         (None, 128)          8320        ['shared_layer_1[0][0]']         \n",
      "                                                                                                  \n",
      " attrition_hidden (Dense)       (None, 32)           4128        ['shared_layer_2[0][0]']         \n",
      "                                                                                                  \n",
      " department_hidden (Dense)      (None, 32)           4128        ['shared_layer_2[0][0]']         \n",
      "                                                                                                  \n",
      " attrition_output (Dense)       (None, 2)            66          ['attrition_hidden[0][0]']       \n",
      "                                                                                                  \n",
      " department_output (Dense)      (None, 3)            99          ['department_hidden[0][0]']      \n",
      "                                                                                                  \n",
      "==================================================================================================\n",
      "Total params: 17,445\n",
      "Trainable params: 17,445\n",
      "Non-trainable params: 0\n",
      "__________________________________________________________________________________________________\n"
     ]
    }
   ],
   "source": [
    "# Create the model\n",
    "\n",
    "model = Model(inputs=input_layer, outputs={'department_output': department_output, 'attrition_output': attrition_output})\n",
    "\n",
    "# Compile the model\n",
    "\n",
    "model.compile(optimizer='adam',\n",
    "              loss={'department_output': 'categorical_crossentropy', 'attrition_output': 'binary_crossentropy'},\n",
    "              metrics={'department_output': 'accuracy', 'attrition_output': 'accuracy'})\n",
    "\n",
    "# Summarize the model\n",
    "\n",
    "model.summary()"
   ]
  },
  {
   "cell_type": "code",
   "execution_count": 193,
   "metadata": {},
   "outputs": [
    {
     "name": "stdout",
     "output_type": "stream",
     "text": [
      "(1176, 3)\n",
      "(1176, 2)\n"
     ]
    }
   ],
   "source": [
    "print(y_train_encoded_department.shape)\n",
    "print(y_train_encoded_attrition.shape)"
   ]
  },
  {
   "cell_type": "code",
   "execution_count": 194,
   "metadata": {
    "colab": {
     "base_uri": "https://localhost:8080/"
    },
    "executionInfo": {
     "elapsed": 31740,
     "status": "ok",
     "timestamp": 1730699259517,
     "user": {
      "displayName": "Alexander Booth",
      "userId": "02269714993535573104"
     },
     "user_tz": 360
    },
    "id": "c8oGy0dpGc3U",
    "outputId": "f48a5292-426f-4715-ea6e-381a8e9d5542"
   },
   "outputs": [
    {
     "name": "stdout",
     "output_type": "stream",
     "text": [
      "Epoch 1/100\n",
      "37/37 [==============================] - 1s 1ms/step - loss: 1.5994 - attrition_output_loss: 0.5564 - department_output_loss: 1.0430 - attrition_output_accuracy: 0.7491 - department_output_accuracy: 0.6335\n",
      "Epoch 2/100\n",
      "37/37 [==============================] - 0s 1ms/step - loss: 1.3676 - attrition_output_loss: 0.4450 - department_output_loss: 0.9226 - attrition_output_accuracy: 0.8342 - department_output_accuracy: 0.6633\n",
      "Epoch 3/100\n",
      "37/37 [==============================] - 0s 1ms/step - loss: 1.2920 - attrition_output_loss: 0.4200 - department_output_loss: 0.8720 - attrition_output_accuracy: 0.8342 - department_output_accuracy: 0.6633\n",
      "Epoch 4/100\n",
      "37/37 [==============================] - 0s 1ms/step - loss: 1.2445 - attrition_output_loss: 0.4015 - department_output_loss: 0.8430 - attrition_output_accuracy: 0.8350 - department_output_accuracy: 0.6633\n",
      "Epoch 5/100\n",
      "37/37 [==============================] - 0s 1ms/step - loss: 1.2128 - attrition_output_loss: 0.3890 - department_output_loss: 0.8238 - attrition_output_accuracy: 0.8486 - department_output_accuracy: 0.6633\n",
      "Epoch 6/100\n",
      "37/37 [==============================] - 0s 1ms/step - loss: 1.1902 - attrition_output_loss: 0.3808 - department_output_loss: 0.8094 - attrition_output_accuracy: 0.8529 - department_output_accuracy: 0.6633\n",
      "Epoch 7/100\n",
      "37/37 [==============================] - 0s 1ms/step - loss: 1.1739 - attrition_output_loss: 0.3756 - department_output_loss: 0.7983 - attrition_output_accuracy: 0.8546 - department_output_accuracy: 0.6633\n",
      "Epoch 8/100\n",
      "37/37 [==============================] - 0s 1ms/step - loss: 1.1646 - attrition_output_loss: 0.3742 - department_output_loss: 0.7904 - attrition_output_accuracy: 0.8537 - department_output_accuracy: 0.6633\n",
      "Epoch 9/100\n",
      "37/37 [==============================] - 0s 1ms/step - loss: 1.1539 - attrition_output_loss: 0.3697 - department_output_loss: 0.7842 - attrition_output_accuracy: 0.8554 - department_output_accuracy: 0.6633\n",
      "Epoch 10/100\n",
      "37/37 [==============================] - 0s 1ms/step - loss: 1.1460 - attrition_output_loss: 0.3667 - department_output_loss: 0.7792 - attrition_output_accuracy: 0.8537 - department_output_accuracy: 0.6633\n",
      "Epoch 11/100\n",
      "37/37 [==============================] - 0s 1ms/step - loss: 1.1419 - attrition_output_loss: 0.3657 - department_output_loss: 0.7761 - attrition_output_accuracy: 0.8580 - department_output_accuracy: 0.6633\n",
      "Epoch 12/100\n",
      "37/37 [==============================] - 0s 1ms/step - loss: 1.1300 - attrition_output_loss: 0.3574 - department_output_loss: 0.7727 - attrition_output_accuracy: 0.8554 - department_output_accuracy: 0.6633\n",
      "Epoch 13/100\n",
      "37/37 [==============================] - 0s 1ms/step - loss: 1.1250 - attrition_output_loss: 0.3546 - department_output_loss: 0.7704 - attrition_output_accuracy: 0.8597 - department_output_accuracy: 0.6633\n",
      "Epoch 14/100\n",
      "37/37 [==============================] - 0s 1ms/step - loss: 1.1181 - attrition_output_loss: 0.3504 - department_output_loss: 0.7678 - attrition_output_accuracy: 0.8622 - department_output_accuracy: 0.6633\n",
      "Epoch 15/100\n",
      "37/37 [==============================] - 0s 1ms/step - loss: 1.1134 - attrition_output_loss: 0.3477 - department_output_loss: 0.7657 - attrition_output_accuracy: 0.8580 - department_output_accuracy: 0.6633\n",
      "Epoch 16/100\n",
      "37/37 [==============================] - 0s 1ms/step - loss: 1.1090 - attrition_output_loss: 0.3447 - department_output_loss: 0.7643 - attrition_output_accuracy: 0.8614 - department_output_accuracy: 0.6633\n",
      "Epoch 17/100\n",
      "37/37 [==============================] - 0s 1ms/step - loss: 1.1030 - attrition_output_loss: 0.3405 - department_output_loss: 0.7625 - attrition_output_accuracy: 0.8648 - department_output_accuracy: 0.6633\n",
      "Epoch 18/100\n",
      "37/37 [==============================] - 0s 1ms/step - loss: 1.0994 - attrition_output_loss: 0.3382 - department_output_loss: 0.7612 - attrition_output_accuracy: 0.8648 - department_output_accuracy: 0.6633\n",
      "Epoch 19/100\n",
      "37/37 [==============================] - 0s 1ms/step - loss: 1.0968 - attrition_output_loss: 0.3370 - department_output_loss: 0.7598 - attrition_output_accuracy: 0.8656 - department_output_accuracy: 0.6633\n",
      "Epoch 20/100\n",
      "37/37 [==============================] - 0s 1ms/step - loss: 1.0937 - attrition_output_loss: 0.3349 - department_output_loss: 0.7588 - attrition_output_accuracy: 0.8631 - department_output_accuracy: 0.6633\n",
      "Epoch 21/100\n",
      "37/37 [==============================] - 0s 1ms/step - loss: 1.0873 - attrition_output_loss: 0.3295 - department_output_loss: 0.7578 - attrition_output_accuracy: 0.8690 - department_output_accuracy: 0.6633\n",
      "Epoch 22/100\n",
      "37/37 [==============================] - 0s 1ms/step - loss: 1.0817 - attrition_output_loss: 0.3250 - department_output_loss: 0.7567 - attrition_output_accuracy: 0.8716 - department_output_accuracy: 0.6633\n",
      "Epoch 23/100\n",
      "37/37 [==============================] - 0s 1ms/step - loss: 1.0816 - attrition_output_loss: 0.3257 - department_output_loss: 0.7558 - attrition_output_accuracy: 0.8707 - department_output_accuracy: 0.6633\n",
      "Epoch 24/100\n",
      "37/37 [==============================] - 0s 1ms/step - loss: 1.0730 - attrition_output_loss: 0.3189 - department_output_loss: 0.7542 - attrition_output_accuracy: 0.8750 - department_output_accuracy: 0.6633\n",
      "Epoch 25/100\n",
      "37/37 [==============================] - 0s 1ms/step - loss: 1.0707 - attrition_output_loss: 0.3169 - department_output_loss: 0.7537 - attrition_output_accuracy: 0.8707 - department_output_accuracy: 0.6633\n",
      "Epoch 26/100\n",
      "37/37 [==============================] - 0s 1ms/step - loss: 1.0679 - attrition_output_loss: 0.3156 - department_output_loss: 0.7523 - attrition_output_accuracy: 0.8690 - department_output_accuracy: 0.6633\n",
      "Epoch 27/100\n",
      "37/37 [==============================] - 0s 1ms/step - loss: 1.0605 - attrition_output_loss: 0.3096 - department_output_loss: 0.7509 - attrition_output_accuracy: 0.8767 - department_output_accuracy: 0.6633\n",
      "Epoch 28/100\n",
      "37/37 [==============================] - 0s 1ms/step - loss: 1.0545 - attrition_output_loss: 0.3054 - department_output_loss: 0.7491 - attrition_output_accuracy: 0.8776 - department_output_accuracy: 0.6633\n",
      "Epoch 29/100\n",
      "37/37 [==============================] - 0s 1ms/step - loss: 1.0498 - attrition_output_loss: 0.3008 - department_output_loss: 0.7490 - attrition_output_accuracy: 0.8818 - department_output_accuracy: 0.6633\n",
      "Epoch 30/100\n",
      "37/37 [==============================] - 0s 1ms/step - loss: 1.0479 - attrition_output_loss: 0.3010 - department_output_loss: 0.7469 - attrition_output_accuracy: 0.8818 - department_output_accuracy: 0.6633\n",
      "Epoch 31/100\n",
      "37/37 [==============================] - 0s 1ms/step - loss: 1.0419 - attrition_output_loss: 0.2962 - department_output_loss: 0.7457 - attrition_output_accuracy: 0.8869 - department_output_accuracy: 0.6633\n",
      "Epoch 32/100\n",
      "37/37 [==============================] - 0s 1ms/step - loss: 1.0366 - attrition_output_loss: 0.2921 - department_output_loss: 0.7445 - attrition_output_accuracy: 0.8844 - department_output_accuracy: 0.6633\n",
      "Epoch 33/100\n",
      "37/37 [==============================] - 0s 1ms/step - loss: 1.0301 - attrition_output_loss: 0.2873 - department_output_loss: 0.7428 - attrition_output_accuracy: 0.8895 - department_output_accuracy: 0.6633\n",
      "Epoch 34/100\n",
      "37/37 [==============================] - 0s 1ms/step - loss: 1.0289 - attrition_output_loss: 0.2871 - department_output_loss: 0.7418 - attrition_output_accuracy: 0.8903 - department_output_accuracy: 0.6633\n",
      "Epoch 35/100\n",
      "37/37 [==============================] - 0s 1ms/step - loss: 1.0170 - attrition_output_loss: 0.2776 - department_output_loss: 0.7394 - attrition_output_accuracy: 0.8946 - department_output_accuracy: 0.6633\n",
      "Epoch 36/100\n",
      "37/37 [==============================] - 0s 1ms/step - loss: 1.0153 - attrition_output_loss: 0.2768 - department_output_loss: 0.7385 - attrition_output_accuracy: 0.8963 - department_output_accuracy: 0.6633\n",
      "Epoch 37/100\n",
      "37/37 [==============================] - 0s 1ms/step - loss: 1.0045 - attrition_output_loss: 0.2693 - department_output_loss: 0.7352 - attrition_output_accuracy: 0.9082 - department_output_accuracy: 0.6633\n",
      "Epoch 38/100\n",
      "37/37 [==============================] - 0s 1ms/step - loss: 1.0018 - attrition_output_loss: 0.2677 - department_output_loss: 0.7340 - attrition_output_accuracy: 0.9014 - department_output_accuracy: 0.6633\n",
      "Epoch 39/100\n",
      "37/37 [==============================] - 0s 1ms/step - loss: 0.9951 - attrition_output_loss: 0.2643 - department_output_loss: 0.7308 - attrition_output_accuracy: 0.9031 - department_output_accuracy: 0.6633\n",
      "Epoch 40/100\n",
      "37/37 [==============================] - 0s 1ms/step - loss: 0.9859 - attrition_output_loss: 0.2560 - department_output_loss: 0.7299 - attrition_output_accuracy: 0.9048 - department_output_accuracy: 0.6633\n",
      "Epoch 41/100\n",
      "37/37 [==============================] - 0s 1ms/step - loss: 0.9770 - attrition_output_loss: 0.2509 - department_output_loss: 0.7260 - attrition_output_accuracy: 0.9133 - department_output_accuracy: 0.6633\n",
      "Epoch 42/100\n",
      "37/37 [==============================] - 0s 1ms/step - loss: 0.9756 - attrition_output_loss: 0.2494 - department_output_loss: 0.7262 - attrition_output_accuracy: 0.9107 - department_output_accuracy: 0.6633\n",
      "Epoch 43/100\n",
      "37/37 [==============================] - 0s 1ms/step - loss: 0.9630 - attrition_output_loss: 0.2425 - department_output_loss: 0.7205 - attrition_output_accuracy: 0.9158 - department_output_accuracy: 0.6633\n",
      "Epoch 44/100\n",
      "37/37 [==============================] - 0s 1ms/step - loss: 0.9711 - attrition_output_loss: 0.2517 - department_output_loss: 0.7194 - attrition_output_accuracy: 0.9090 - department_output_accuracy: 0.6633\n",
      "Epoch 45/100\n",
      "37/37 [==============================] - 0s 1ms/step - loss: 0.9548 - attrition_output_loss: 0.2391 - department_output_loss: 0.7158 - attrition_output_accuracy: 0.9150 - department_output_accuracy: 0.6633\n",
      "Epoch 46/100\n",
      "37/37 [==============================] - 0s 1ms/step - loss: 0.9414 - attrition_output_loss: 0.2282 - department_output_loss: 0.7132 - attrition_output_accuracy: 0.9269 - department_output_accuracy: 0.6633\n",
      "Epoch 47/100\n",
      "37/37 [==============================] - 0s 1ms/step - loss: 0.9363 - attrition_output_loss: 0.2230 - department_output_loss: 0.7133 - attrition_output_accuracy: 0.9328 - department_output_accuracy: 0.6633\n",
      "Epoch 48/100\n",
      "37/37 [==============================] - 0s 1ms/step - loss: 0.9281 - attrition_output_loss: 0.2157 - department_output_loss: 0.7124 - attrition_output_accuracy: 0.9354 - department_output_accuracy: 0.6633\n",
      "Epoch 49/100\n",
      "37/37 [==============================] - 0s 1ms/step - loss: 0.9213 - attrition_output_loss: 0.2141 - department_output_loss: 0.7072 - attrition_output_accuracy: 0.9320 - department_output_accuracy: 0.6633\n",
      "Epoch 50/100\n",
      "37/37 [==============================] - 0s 1ms/step - loss: 0.9136 - attrition_output_loss: 0.2095 - department_output_loss: 0.7041 - attrition_output_accuracy: 0.9345 - department_output_accuracy: 0.6633\n",
      "Epoch 51/100\n",
      "37/37 [==============================] - 0s 1ms/step - loss: 0.9056 - attrition_output_loss: 0.2057 - department_output_loss: 0.6998 - attrition_output_accuracy: 0.9345 - department_output_accuracy: 0.6633\n",
      "Epoch 52/100\n",
      "37/37 [==============================] - 0s 1ms/step - loss: 0.8983 - attrition_output_loss: 0.1984 - department_output_loss: 0.6999 - attrition_output_accuracy: 0.9405 - department_output_accuracy: 0.6633\n",
      "Epoch 53/100\n",
      "37/37 [==============================] - 0s 1ms/step - loss: 0.8919 - attrition_output_loss: 0.1952 - department_output_loss: 0.6968 - attrition_output_accuracy: 0.9405 - department_output_accuracy: 0.6633\n",
      "Epoch 54/100\n",
      "37/37 [==============================] - 0s 1ms/step - loss: 0.8808 - attrition_output_loss: 0.1898 - department_output_loss: 0.6909 - attrition_output_accuracy: 0.9473 - department_output_accuracy: 0.6633\n",
      "Epoch 55/100\n",
      "37/37 [==============================] - 0s 1ms/step - loss: 0.8759 - attrition_output_loss: 0.1895 - department_output_loss: 0.6864 - attrition_output_accuracy: 0.9481 - department_output_accuracy: 0.6633\n",
      "Epoch 56/100\n",
      "37/37 [==============================] - 0s 1ms/step - loss: 0.8679 - attrition_output_loss: 0.1826 - department_output_loss: 0.6852 - attrition_output_accuracy: 0.9430 - department_output_accuracy: 0.6633\n",
      "Epoch 57/100\n",
      "37/37 [==============================] - 0s 1ms/step - loss: 0.8566 - attrition_output_loss: 0.1775 - department_output_loss: 0.6791 - attrition_output_accuracy: 0.9515 - department_output_accuracy: 0.6633\n",
      "Epoch 58/100\n",
      "37/37 [==============================] - 0s 1ms/step - loss: 0.8498 - attrition_output_loss: 0.1738 - department_output_loss: 0.6760 - attrition_output_accuracy: 0.9541 - department_output_accuracy: 0.6633\n",
      "Epoch 59/100\n",
      "37/37 [==============================] - 0s 1ms/step - loss: 0.8489 - attrition_output_loss: 0.1720 - department_output_loss: 0.6770 - attrition_output_accuracy: 0.9541 - department_output_accuracy: 0.6633\n",
      "Epoch 60/100\n",
      "37/37 [==============================] - 0s 1ms/step - loss: 0.8349 - attrition_output_loss: 0.1659 - department_output_loss: 0.6690 - attrition_output_accuracy: 0.9515 - department_output_accuracy: 0.6633\n",
      "Epoch 61/100\n",
      "37/37 [==============================] - 0s 1ms/step - loss: 0.8247 - attrition_output_loss: 0.1548 - department_output_loss: 0.6699 - attrition_output_accuracy: 0.9566 - department_output_accuracy: 0.6633\n",
      "Epoch 62/100\n",
      "37/37 [==============================] - 0s 1ms/step - loss: 0.8229 - attrition_output_loss: 0.1628 - department_output_loss: 0.6601 - attrition_output_accuracy: 0.9549 - department_output_accuracy: 0.6633\n",
      "Epoch 63/100\n",
      "37/37 [==============================] - 0s 1ms/step - loss: 0.8088 - attrition_output_loss: 0.1507 - department_output_loss: 0.6581 - attrition_output_accuracy: 0.9575 - department_output_accuracy: 0.6633\n",
      "Epoch 64/100\n",
      "37/37 [==============================] - 0s 1ms/step - loss: 0.7979 - attrition_output_loss: 0.1488 - department_output_loss: 0.6492 - attrition_output_accuracy: 0.9609 - department_output_accuracy: 0.6480\n",
      "Epoch 65/100\n",
      "37/37 [==============================] - 0s 1ms/step - loss: 0.8073 - attrition_output_loss: 0.1485 - department_output_loss: 0.6588 - attrition_output_accuracy: 0.9592 - department_output_accuracy: 0.6514\n",
      "Epoch 66/100\n",
      "37/37 [==============================] - 0s 1ms/step - loss: 0.7952 - attrition_output_loss: 0.1491 - department_output_loss: 0.6462 - attrition_output_accuracy: 0.9558 - department_output_accuracy: 0.6420\n",
      "Epoch 67/100\n",
      "37/37 [==============================] - 0s 2ms/step - loss: 0.7846 - attrition_output_loss: 0.1399 - department_output_loss: 0.6447 - attrition_output_accuracy: 0.9617 - department_output_accuracy: 0.6488\n",
      "Epoch 68/100\n",
      "37/37 [==============================] - 0s 1ms/step - loss: 0.7833 - attrition_output_loss: 0.1383 - department_output_loss: 0.6450 - attrition_output_accuracy: 0.9634 - department_output_accuracy: 0.6599\n",
      "Epoch 69/100\n",
      "37/37 [==============================] - 0s 1ms/step - loss: 0.7709 - attrition_output_loss: 0.1328 - department_output_loss: 0.6381 - attrition_output_accuracy: 0.9643 - department_output_accuracy: 0.6505\n",
      "Epoch 70/100\n",
      "37/37 [==============================] - 0s 2ms/step - loss: 0.7685 - attrition_output_loss: 0.1363 - department_output_loss: 0.6322 - attrition_output_accuracy: 0.9668 - department_output_accuracy: 0.6599\n",
      "Epoch 71/100\n",
      "37/37 [==============================] - 0s 1ms/step - loss: 0.7586 - attrition_output_loss: 0.1280 - department_output_loss: 0.6306 - attrition_output_accuracy: 0.9685 - department_output_accuracy: 0.6650\n",
      "Epoch 72/100\n",
      "37/37 [==============================] - 0s 1ms/step - loss: 0.7453 - attrition_output_loss: 0.1234 - department_output_loss: 0.6219 - attrition_output_accuracy: 0.9702 - department_output_accuracy: 0.6641\n",
      "Epoch 73/100\n",
      "37/37 [==============================] - 0s 1ms/step - loss: 0.7403 - attrition_output_loss: 0.1201 - department_output_loss: 0.6202 - attrition_output_accuracy: 0.9711 - department_output_accuracy: 0.6777\n",
      "Epoch 74/100\n",
      "37/37 [==============================] - 0s 1ms/step - loss: 0.7277 - attrition_output_loss: 0.1162 - department_output_loss: 0.6114 - attrition_output_accuracy: 0.9753 - department_output_accuracy: 0.6726\n",
      "Epoch 75/100\n",
      "37/37 [==============================] - 0s 1ms/step - loss: 0.7292 - attrition_output_loss: 0.1185 - department_output_loss: 0.6108 - attrition_output_accuracy: 0.9702 - department_output_accuracy: 0.6820\n",
      "Epoch 76/100\n",
      "37/37 [==============================] - 0s 1ms/step - loss: 0.7256 - attrition_output_loss: 0.1092 - department_output_loss: 0.6164 - attrition_output_accuracy: 0.9762 - department_output_accuracy: 0.6760\n",
      "Epoch 77/100\n",
      "37/37 [==============================] - 0s 2ms/step - loss: 0.7168 - attrition_output_loss: 0.1116 - department_output_loss: 0.6052 - attrition_output_accuracy: 0.9711 - department_output_accuracy: 0.6947\n",
      "Epoch 78/100\n",
      "37/37 [==============================] - 0s 2ms/step - loss: 0.7067 - attrition_output_loss: 0.1107 - department_output_loss: 0.5960 - attrition_output_accuracy: 0.9694 - department_output_accuracy: 0.6990\n",
      "Epoch 79/100\n",
      "37/37 [==============================] - 0s 2ms/step - loss: 0.6959 - attrition_output_loss: 0.1014 - department_output_loss: 0.5945 - attrition_output_accuracy: 0.9787 - department_output_accuracy: 0.6947\n",
      "Epoch 80/100\n",
      "37/37 [==============================] - 0s 2ms/step - loss: 0.6899 - attrition_output_loss: 0.1019 - department_output_loss: 0.5880 - attrition_output_accuracy: 0.9762 - department_output_accuracy: 0.7117\n",
      "Epoch 81/100\n",
      "37/37 [==============================] - 0s 2ms/step - loss: 0.6947 - attrition_output_loss: 0.1101 - department_output_loss: 0.5847 - attrition_output_accuracy: 0.9728 - department_output_accuracy: 0.7083\n",
      "Epoch 82/100\n",
      "37/37 [==============================] - 0s 2ms/step - loss: 0.6837 - attrition_output_loss: 0.1026 - department_output_loss: 0.5811 - attrition_output_accuracy: 0.9745 - department_output_accuracy: 0.7015\n",
      "Epoch 83/100\n",
      "37/37 [==============================] - 0s 1ms/step - loss: 0.6723 - attrition_output_loss: 0.0960 - department_output_loss: 0.5763 - attrition_output_accuracy: 0.9779 - department_output_accuracy: 0.7134\n",
      "Epoch 84/100\n",
      "37/37 [==============================] - 0s 1ms/step - loss: 0.6702 - attrition_output_loss: 0.0911 - department_output_loss: 0.5792 - attrition_output_accuracy: 0.9787 - department_output_accuracy: 0.7168\n",
      "Epoch 85/100\n",
      "37/37 [==============================] - 0s 1ms/step - loss: 0.6696 - attrition_output_loss: 0.0936 - department_output_loss: 0.5761 - attrition_output_accuracy: 0.9787 - department_output_accuracy: 0.7219\n",
      "Epoch 86/100\n",
      "37/37 [==============================] - 0s 1ms/step - loss: 0.6618 - attrition_output_loss: 0.0930 - department_output_loss: 0.5688 - attrition_output_accuracy: 0.9770 - department_output_accuracy: 0.7364\n",
      "Epoch 87/100\n",
      "37/37 [==============================] - 0s 1ms/step - loss: 0.6529 - attrition_output_loss: 0.0940 - department_output_loss: 0.5589 - attrition_output_accuracy: 0.9745 - department_output_accuracy: 0.7364\n",
      "Epoch 88/100\n",
      "37/37 [==============================] - 0s 2ms/step - loss: 0.6431 - attrition_output_loss: 0.0894 - department_output_loss: 0.5536 - attrition_output_accuracy: 0.9753 - department_output_accuracy: 0.7381\n",
      "Epoch 89/100\n",
      "37/37 [==============================] - 0s 2ms/step - loss: 0.6388 - attrition_output_loss: 0.0879 - department_output_loss: 0.5509 - attrition_output_accuracy: 0.9779 - department_output_accuracy: 0.7457\n",
      "Epoch 90/100\n",
      "37/37 [==============================] - 0s 2ms/step - loss: 0.6341 - attrition_output_loss: 0.0843 - department_output_loss: 0.5498 - attrition_output_accuracy: 0.9821 - department_output_accuracy: 0.7543\n",
      "Epoch 91/100\n",
      "37/37 [==============================] - 0s 1ms/step - loss: 0.6278 - attrition_output_loss: 0.0862 - department_output_loss: 0.5417 - attrition_output_accuracy: 0.9787 - department_output_accuracy: 0.7679\n",
      "Epoch 92/100\n",
      "37/37 [==============================] - 0s 1ms/step - loss: 0.6278 - attrition_output_loss: 0.0842 - department_output_loss: 0.5436 - attrition_output_accuracy: 0.9821 - department_output_accuracy: 0.7474\n",
      "Epoch 93/100\n",
      "37/37 [==============================] - 0s 1ms/step - loss: 0.6333 - attrition_output_loss: 0.0781 - department_output_loss: 0.5552 - attrition_output_accuracy: 0.9821 - department_output_accuracy: 0.7509\n",
      "Epoch 94/100\n",
      "37/37 [==============================] - 0s 1ms/step - loss: 0.6128 - attrition_output_loss: 0.0751 - department_output_loss: 0.5377 - attrition_output_accuracy: 0.9830 - department_output_accuracy: 0.7602\n",
      "Epoch 95/100\n",
      "37/37 [==============================] - 0s 2ms/step - loss: 0.6067 - attrition_output_loss: 0.0716 - department_output_loss: 0.5351 - attrition_output_accuracy: 0.9847 - department_output_accuracy: 0.7628\n",
      "Epoch 96/100\n",
      "37/37 [==============================] - 0s 4ms/step - loss: 0.5991 - attrition_output_loss: 0.0730 - department_output_loss: 0.5261 - attrition_output_accuracy: 0.9821 - department_output_accuracy: 0.7806\n",
      "Epoch 97/100\n",
      "37/37 [==============================] - 0s 2ms/step - loss: 0.5952 - attrition_output_loss: 0.0724 - department_output_loss: 0.5229 - attrition_output_accuracy: 0.9830 - department_output_accuracy: 0.7687\n",
      "Epoch 98/100\n",
      "37/37 [==============================] - 0s 1ms/step - loss: 0.5923 - attrition_output_loss: 0.0678 - department_output_loss: 0.5245 - attrition_output_accuracy: 0.9838 - department_output_accuracy: 0.7730\n",
      "Epoch 99/100\n",
      "37/37 [==============================] - 0s 1ms/step - loss: 0.5812 - attrition_output_loss: 0.0691 - department_output_loss: 0.5121 - attrition_output_accuracy: 0.9821 - department_output_accuracy: 0.7789\n",
      "Epoch 100/100\n",
      "37/37 [==============================] - 0s 1ms/step - loss: 0.5742 - attrition_output_loss: 0.0683 - department_output_loss: 0.5059 - attrition_output_accuracy: 0.9830 - department_output_accuracy: 0.7942\n"
     ]
    },
    {
     "data": {
      "text/plain": [
       "<keras.callbacks.History at 0x2451c24a650>"
      ]
     },
     "execution_count": 194,
     "metadata": {},
     "output_type": "execute_result"
    }
   ],
   "source": [
    "\n",
    "# Train the model\n",
    "\n",
    "# Ensure the keys in the dictionary match the output layer names in the model\n",
    "model.fit(\n",
    "    X_train_scaled,\n",
    "    {'department_output': y_train_encoded_department, 'attrition_output': y_train_encoded_attrition},\n",
    "    epochs=100,\n",
    "    batch_size=32\n",
    ")"
   ]
  },
  {
   "cell_type": "code",
   "execution_count": 195,
   "metadata": {
    "colab": {
     "base_uri": "https://localhost:8080/"
    },
    "executionInfo": {
     "elapsed": 379,
     "status": "ok",
     "timestamp": 1730699259894,
     "user": {
      "displayName": "Alexander Booth",
      "userId": "02269714993535573104"
     },
     "user_tz": 360
    },
    "id": "VsMoaQlgGc3U",
    "outputId": "636c85ba-ee63-4087-b7d1-00b408f1055a"
   },
   "outputs": [
    {
     "name": "stdout",
     "output_type": "stream",
     "text": [
      "10/10 [==============================] - 0s 1ms/step - loss: 1.8593 - attrition_output_loss: 0.7344 - department_output_loss: 1.1250 - attrition_output_accuracy: 0.8163 - department_output_accuracy: 0.4932\n"
     ]
    },
    {
     "data": {
      "text/plain": [
       "[1.859338402748108,\n",
       " 0.7343820333480835,\n",
       " 1.1249563694000244,\n",
       " 0.8163265585899353,\n",
       " 0.4931972920894623]"
      ]
     },
     "execution_count": 195,
     "metadata": {},
     "output_type": "execute_result"
    }
   ],
   "source": [
    "# Evaluate the model with the testing data\n",
    "\n",
    "test_results = model.evaluate(\n",
    "    X_test_scaled,\n",
    "    {'department_output': y_test_encoded_department, 'attrition_output': y_test_encoded_attrition}\n",
    ")\n",
    "\n",
    "test_results"
   ]
  },
  {
   "cell_type": "code",
   "execution_count": 196,
   "metadata": {
    "colab": {
     "base_uri": "https://localhost:8080/"
    },
    "executionInfo": {
     "elapsed": 113,
     "status": "ok",
     "timestamp": 1730699260004,
     "user": {
      "displayName": "Alexander Booth",
      "userId": "02269714993535573104"
     },
     "user_tz": 360
    },
    "id": "ZlCtlHi0Vt54",
    "outputId": "3a32435c-11cf-48da-81b5-1431d6c00da2"
   },
   "outputs": [
    {
     "name": "stdout",
     "output_type": "stream",
     "text": [
      "Department Accuracy: 0.4931972920894623\n",
      "Attrition Accuracy: 0.8163265585899353\n"
     ]
    }
   ],
   "source": [
    "# Print the accuracy for both department and attrition\n",
    "\n",
    "\n",
    "print(f\"Department Accuracy: {test_results[4]}\")\n",
    "print(f\"Attrition Accuracy: {test_results[3]}\")\n"
   ]
  },
  {
   "cell_type": "markdown",
   "metadata": {
    "id": "eGSyfsZfWOQM"
   },
   "source": [
    "# Summary\n",
    "\n",
    "In the provided space below, briefly answer the following questions.\n",
    "\n",
    "1. Is accuracy the best metric to use on this data? Why or why not?\n",
    "\n",
    "2. What activation functions did you choose for your output layers, and why?\n",
    "\n",
    "3. Can you name a few ways that this model might be improved?"
   ]
  },
  {
   "cell_type": "markdown",
   "metadata": {
    "id": "pi9SLpFnWvbF"
   },
   "source": [
    "YOUR ANSWERS HERE\n",
    "1. Accuracy might not be the best metric for this data because it does not account for class imbalance. For example, if one class is significantly more frequent than the others, a high accuracy could be achieved by always predicting the majority class, even if the model performs poorly on the minority class. Metrics like precision, recall, or F1-score might provide a better understanding of the model's performance.\n",
    "\n",
    "2. For the output layers, the `softmax` activation function was chosen for the `department_output` layer because it is a multi-class classification problem, and `softmax` ensures that the outputs represent probabilities that sum to 1. The `sigmoid` activation function was chosen for the `attrition_output` layer because it is a binary classification problem, and `sigmoid` outputs a probability for each class.\n",
    "\n",
    "3. The model might be improved by:\n",
    "    - Performing hyperparameter tuning to optimize the number of layers, number of neurons, learning rate, and batch size.\n",
    "    - Using techniques like dropout or batch normalization to prevent overfitting.\n",
    "    - Incorporating additional features or engineering new features that might be relevant to the prediction tasks.\n",
    "    - Addressing class imbalance using techniques like oversampling, undersampling, or class-weighting during training.\n"
   ]
  }
 ],
 "metadata": {
  "colab": {
   "provenance": []
  },
  "kernelspec": {
   "display_name": "dev",
   "language": "python",
   "name": "python3"
  },
  "language_info": {
   "codemirror_mode": {
    "name": "ipython",
    "version": 3
   },
   "file_extension": ".py",
   "mimetype": "text/x-python",
   "name": "python",
   "nbconvert_exporter": "python",
   "pygments_lexer": "ipython3",
   "version": "3.10.13"
  }
 },
 "nbformat": 4,
 "nbformat_minor": 0
}
